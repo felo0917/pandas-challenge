{
 "cells": [
  {
   "cell_type": "code",
   "execution_count": 4,
   "metadata": {},
   "outputs": [],
   "source": [
    "# Dependencies\n",
    "import os\n",
    "import csv\n",
    "import pandas as pd"
   ]
  },
  {
   "cell_type": "code",
   "execution_count": 5,
   "metadata": {},
   "outputs": [
    {
     "name": "stdout",
     "output_type": "stream",
     "text": [
      "Resources\\purchase_data.csv\n"
     ]
    }
   ],
   "source": [
    "#File Path\n",
    "data_file = os.path.join(\"Resources\", \"purchase_data.csv\")\n"
   ]
  },
  {
   "cell_type": "code",
   "execution_count": 6,
   "metadata": {
    "scrolled": true
   },
   "outputs": [
    {
     "data": {
      "text/html": [
       "<div>\n",
       "<style scoped>\n",
       "    .dataframe tbody tr th:only-of-type {\n",
       "        vertical-align: middle;\n",
       "    }\n",
       "\n",
       "    .dataframe tbody tr th {\n",
       "        vertical-align: top;\n",
       "    }\n",
       "\n",
       "    .dataframe thead th {\n",
       "        text-align: right;\n",
       "    }\n",
       "</style>\n",
       "<table border=\"1\" class=\"dataframe\">\n",
       "  <thead>\n",
       "    <tr style=\"text-align: right;\">\n",
       "      <th></th>\n",
       "      <th>Purchase ID</th>\n",
       "      <th>SN</th>\n",
       "      <th>Age</th>\n",
       "      <th>Gender</th>\n",
       "      <th>Item ID</th>\n",
       "      <th>Item Name</th>\n",
       "      <th>Price</th>\n",
       "    </tr>\n",
       "  </thead>\n",
       "  <tbody>\n",
       "    <tr>\n",
       "      <th>0</th>\n",
       "      <td>0</td>\n",
       "      <td>Lisim78</td>\n",
       "      <td>20</td>\n",
       "      <td>Male</td>\n",
       "      <td>108</td>\n",
       "      <td>Extraction, Quickblade Of Trembling Hands</td>\n",
       "      <td>3.53</td>\n",
       "    </tr>\n",
       "    <tr>\n",
       "      <th>1</th>\n",
       "      <td>1</td>\n",
       "      <td>Lisovynya38</td>\n",
       "      <td>40</td>\n",
       "      <td>Male</td>\n",
       "      <td>143</td>\n",
       "      <td>Frenzied Scimitar</td>\n",
       "      <td>1.56</td>\n",
       "    </tr>\n",
       "    <tr>\n",
       "      <th>2</th>\n",
       "      <td>2</td>\n",
       "      <td>Ithergue48</td>\n",
       "      <td>24</td>\n",
       "      <td>Male</td>\n",
       "      <td>92</td>\n",
       "      <td>Final Critic</td>\n",
       "      <td>4.88</td>\n",
       "    </tr>\n",
       "    <tr>\n",
       "      <th>3</th>\n",
       "      <td>3</td>\n",
       "      <td>Chamassasya86</td>\n",
       "      <td>24</td>\n",
       "      <td>Male</td>\n",
       "      <td>100</td>\n",
       "      <td>Blindscythe</td>\n",
       "      <td>3.27</td>\n",
       "    </tr>\n",
       "    <tr>\n",
       "      <th>4</th>\n",
       "      <td>4</td>\n",
       "      <td>Iskosia90</td>\n",
       "      <td>23</td>\n",
       "      <td>Male</td>\n",
       "      <td>131</td>\n",
       "      <td>Fury</td>\n",
       "      <td>1.44</td>\n",
       "    </tr>\n",
       "  </tbody>\n",
       "</table>\n",
       "</div>"
      ],
      "text/plain": [
       "   Purchase ID             SN  Age Gender  Item ID  \\\n",
       "0            0        Lisim78   20   Male      108   \n",
       "1            1    Lisovynya38   40   Male      143   \n",
       "2            2     Ithergue48   24   Male       92   \n",
       "3            3  Chamassasya86   24   Male      100   \n",
       "4            4      Iskosia90   23   Male      131   \n",
       "\n",
       "                                   Item Name  Price  \n",
       "0  Extraction, Quickblade Of Trembling Hands   3.53  \n",
       "1                          Frenzied Scimitar   1.56  \n",
       "2                               Final Critic   4.88  \n",
       "3                                Blindscythe   3.27  \n",
       "4                                       Fury   1.44  "
      ]
     },
     "execution_count": 6,
     "metadata": {},
     "output_type": "execute_result"
    }
   ],
   "source": [
    "data_file_df = pd.read_csv(data_file)\n",
    "data_file_df.head()"
   ]
  },
  {
   "cell_type": "code",
   "execution_count": 14,
   "metadata": {},
   "outputs": [
    {
     "data": {
      "text/html": [
       "<div>\n",
       "<style scoped>\n",
       "    .dataframe tbody tr th:only-of-type {\n",
       "        vertical-align: middle;\n",
       "    }\n",
       "\n",
       "    .dataframe tbody tr th {\n",
       "        vertical-align: top;\n",
       "    }\n",
       "\n",
       "    .dataframe thead th {\n",
       "        text-align: right;\n",
       "    }\n",
       "</style>\n",
       "<table border=\"1\" class=\"dataframe\">\n",
       "  <thead>\n",
       "    <tr style=\"text-align: right;\">\n",
       "      <th></th>\n",
       "      <th>Total Players</th>\n",
       "    </tr>\n",
       "  </thead>\n",
       "  <tbody>\n",
       "    <tr>\n",
       "      <th>0</th>\n",
       "      <td>576</td>\n",
       "    </tr>\n",
       "  </tbody>\n",
       "</table>\n",
       "</div>"
      ],
      "text/plain": [
       "   Total Players\n",
       "0            576"
      ]
     },
     "execution_count": 14,
     "metadata": {},
     "output_type": "execute_result"
    }
   ],
   "source": [
    "total_players = len(data_file_df[\"SN\"].value_counts())\n",
    "\n",
    "#Data frame for total players \n",
    "total_players_count = pd.DataFrame({\"Total Players\":[total_players]})\n",
    "total_players_count"
   ]
  },
  {
   "cell_type": "code",
   "execution_count": 16,
   "metadata": {},
   "outputs": [
    {
     "data": {
      "text/plain": [
       "179"
      ]
     },
     "execution_count": 16,
     "metadata": {},
     "output_type": "execute_result"
    }
   ],
   "source": [
    "#Calc of number of unique items\n",
    "item_count = len(data_file_df[\"Item Name\"].unique())\n",
    "item_count"
   ]
  },
  {
   "cell_type": "code",
   "execution_count": 20,
   "metadata": {},
   "outputs": [
    {
     "data": {
      "text/plain": [
       "3.0509871794871795"
      ]
     },
     "execution_count": 20,
     "metadata": {},
     "output_type": "execute_result"
    }
   ],
   "source": [
    "#Average price\n",
    "avg_price = data_file_df[\"Price\"].mean()\n",
    "avg_price"
   ]
  },
  {
   "cell_type": "code",
   "execution_count": 24,
   "metadata": {},
   "outputs": [
    {
     "data": {
      "text/plain": [
       "780"
      ]
     },
     "execution_count": 24,
     "metadata": {},
     "output_type": "execute_result"
    }
   ],
   "source": [
    "#Number of Purchases\n",
    "number_purchases = data_file_df[\"Purchase ID\"].count()\n",
    "number_purchases\n"
   ]
  },
  {
   "cell_type": "code",
   "execution_count": 27,
   "metadata": {},
   "outputs": [
    {
     "data": {
      "text/plain": [
       "2379.77"
      ]
     },
     "execution_count": 27,
     "metadata": {},
     "output_type": "execute_result"
    }
   ],
   "source": [
    "#Total Revenue\n",
    "total_revenue = data_file_df[\"Price\"].sum()\n",
    "total_revenue"
   ]
  },
  {
   "cell_type": "code",
   "execution_count": 30,
   "metadata": {},
   "outputs": [
    {
     "data": {
      "text/html": [
       "<style  type=\"text/css\" >\n",
       "</style><table id=\"T_03e0f577_a2de_11ea_babe_287fcfbaf6a7\" ><thead>    <tr>        <th class=\"blank level0\" ></th>        <th class=\"col_heading level0 col0\" >Number of Unique Items</th>        <th class=\"col_heading level0 col1\" >Average Price</th>        <th class=\"col_heading level0 col2\" >Number of Purchases</th>        <th class=\"col_heading level0 col3\" >Total Revenue</th>    </tr></thead><tbody>\n",
       "                <tr>\n",
       "                        <th id=\"T_03e0f577_a2de_11ea_babe_287fcfbaf6a7level0_row0\" class=\"row_heading level0 row0\" >0</th>\n",
       "                        <td id=\"T_03e0f577_a2de_11ea_babe_287fcfbaf6a7row0_col0\" class=\"data row0 col0\" >179</td>\n",
       "                        <td id=\"T_03e0f577_a2de_11ea_babe_287fcfbaf6a7row0_col1\" class=\"data row0 col1\" >$3.05</td>\n",
       "                        <td id=\"T_03e0f577_a2de_11ea_babe_287fcfbaf6a7row0_col2\" class=\"data row0 col2\" >780</td>\n",
       "                        <td id=\"T_03e0f577_a2de_11ea_babe_287fcfbaf6a7row0_col3\" class=\"data row0 col3\" >$2,379.77</td>\n",
       "            </tr>\n",
       "    </tbody></table>"
      ],
      "text/plain": [
       "<pandas.io.formats.style.Styler at 0x18ad90e4cd0>"
      ]
     },
     "execution_count": 30,
     "metadata": {},
     "output_type": "execute_result"
    }
   ],
   "source": [
    "#Summary data frame that holds all the results\n",
    "summary_df = pd.DataFrame({\"Number of Unique Items\": [item_count],\n",
    "                              \"Average Price\": [avg_price],\n",
    "                              \"Number of Purchases\": [number_purchases],\n",
    "                              \"Total Revenue\": [total_revenue]})\n",
    "\n",
    "summary_df.style.format({'Average Price':\"${:,.2f}\",\n",
    "                         'Total Revenue': '${:,.2f}'})"
   ]
  },
  {
   "cell_type": "code",
   "execution_count": 37,
   "metadata": {},
   "outputs": [
    {
     "data": {
      "text/html": [
       "<style  type=\"text/css\" >\n",
       "</style><table id=\"T_c1d9f65b_a2e1_11ea_bfc6_287fcfbaf6a7\" ><thead>    <tr>        <th class=\"blank level0\" ></th>        <th class=\"col_heading level0 col0\" >Total Count</th>        <th class=\"col_heading level0 col1\" >Percentage of Players</th>    </tr></thead><tbody>\n",
       "                <tr>\n",
       "                        <th id=\"T_c1d9f65b_a2e1_11ea_bfc6_287fcfbaf6a7level0_row0\" class=\"row_heading level0 row0\" >Male</th>\n",
       "                        <td id=\"T_c1d9f65b_a2e1_11ea_bfc6_287fcfbaf6a7row0_col0\" class=\"data row0 col0\" >484</td>\n",
       "                        <td id=\"T_c1d9f65b_a2e1_11ea_bfc6_287fcfbaf6a7row0_col1\" class=\"data row0 col1\" >84.03%</td>\n",
       "            </tr>\n",
       "            <tr>\n",
       "                        <th id=\"T_c1d9f65b_a2e1_11ea_bfc6_287fcfbaf6a7level0_row1\" class=\"row_heading level0 row1\" >Female</th>\n",
       "                        <td id=\"T_c1d9f65b_a2e1_11ea_bfc6_287fcfbaf6a7row1_col0\" class=\"data row1 col0\" >81</td>\n",
       "                        <td id=\"T_c1d9f65b_a2e1_11ea_bfc6_287fcfbaf6a7row1_col1\" class=\"data row1 col1\" >14.06%</td>\n",
       "            </tr>\n",
       "            <tr>\n",
       "                        <th id=\"T_c1d9f65b_a2e1_11ea_bfc6_287fcfbaf6a7level0_row2\" class=\"row_heading level0 row2\" >Other / Non-Disclosed</th>\n",
       "                        <td id=\"T_c1d9f65b_a2e1_11ea_bfc6_287fcfbaf6a7row2_col0\" class=\"data row2 col0\" >11</td>\n",
       "                        <td id=\"T_c1d9f65b_a2e1_11ea_bfc6_287fcfbaf6a7row2_col1\" class=\"data row2 col1\" >1.91%</td>\n",
       "            </tr>\n",
       "    </tbody></table>"
      ],
      "text/plain": [
       "<pandas.io.formats.style.Styler at 0x18ad90e4fa0>"
      ]
     },
     "execution_count": 37,
     "metadata": {},
     "output_type": "execute_result"
    }
   ],
   "source": [
    "#Gender Demographics\n",
    "gender_group = data_file_df.groupby(\"Gender\")\n",
    "gender_count = gender_group.nunique()[\"SN\"]\n",
    "percentage_players = gender_count/total_players * 100\n",
    "gender_demo = pd.DataFrame({\"Total Count\": gender_count, \"Percentage of Players\": percentage_players})\n",
    "gender_demo.index.name = None\n",
    "                            \n",
    "gender_demo.sort_values([\"Total Count\"], ascending = False).style.format({\"Percentage of Players\":\"{:.2f}%\"})\n"
   ]
  },
  {
   "cell_type": "code",
   "execution_count": 38,
   "metadata": {},
   "outputs": [
    {
     "data": {
      "text/plain": [
       "Female                   113\n",
       "Male                     652\n",
       "Other / Non-Disclosed     15\n",
       "Name: Purchase ID, dtype: int64"
      ]
     },
     "execution_count": 38,
     "metadata": {},
     "output_type": "execute_result"
    }
   ],
   "source": [
    "#Purchase count by gender\n",
    "purchase_count = gender_group[\"Purchase ID\"].count()\n",
    "purchase_count"
   ]
  },
  {
   "cell_type": "code",
   "execution_count": 40,
   "metadata": {},
   "outputs": [
    {
     "data": {
      "text/plain": [
       "Female                   3.203009\n",
       "Male                     3.017853\n",
       "Other / Non-Disclosed    3.346000\n",
       "Name: Price, dtype: float64"
      ]
     },
     "execution_count": 40,
     "metadata": {},
     "output_type": "execute_result"
    }
   ],
   "source": [
    "#avg. purchase price\n",
    "avg_purchase_price = gender_group[\"Price\"].mean()\n",
    "avg_purchase_price"
   ]
  },
  {
   "cell_type": "code",
   "execution_count": 41,
   "metadata": {},
   "outputs": [
    {
     "data": {
      "text/plain": [
       "Female                    361.94\n",
       "Male                     1967.64\n",
       "Other / Non-Disclosed      50.19\n",
       "Name: Price, dtype: float64"
      ]
     },
     "execution_count": 41,
     "metadata": {},
     "output_type": "execute_result"
    }
   ],
   "source": [
    "#total purchase value\n",
    "total_purchase_value = gender_group[\"Price\"].sum()\n",
    "total_purchase_value"
   ]
  },
  {
   "cell_type": "code",
   "execution_count": 47,
   "metadata": {},
   "outputs": [
    {
     "data": {
      "text/plain": [
       "Female                   4.468395\n",
       "Male                     4.065372\n",
       "Other / Non-Disclosed    4.562727\n",
       "dtype: float64"
      ]
     },
     "execution_count": 47,
     "metadata": {},
     "output_type": "execute_result"
    }
   ],
   "source": [
    "#avg. purchase total per person\n",
    "avg_purchase_total = total_purchase_value/gender_count\n",
    "avg_purchase_total"
   ]
  },
  {
   "cell_type": "code",
   "execution_count": 59,
   "metadata": {},
   "outputs": [
    {
     "data": {
      "text/html": [
       "<style  type=\"text/css\" >\n",
       "</style><table id=\"T_8c3a15f6_a2e7_11ea_ac4f_287fcfbaf6a7\" ><thead>    <tr>        <th class=\"blank level0\" ></th>        <th class=\"col_heading level0 col0\" >Purchase Count</th>        <th class=\"col_heading level0 col1\" >Average Purchase Price</th>        <th class=\"col_heading level0 col2\" >Total Purchase Value</th>        <th class=\"col_heading level0 col3\" >Avg Total Purchase per Person</th>    </tr>    <tr>        <th class=\"index_name level0\" >Gender</th>        <th class=\"blank\" ></th>        <th class=\"blank\" ></th>        <th class=\"blank\" ></th>        <th class=\"blank\" ></th>    </tr></thead><tbody>\n",
       "                <tr>\n",
       "                        <th id=\"T_8c3a15f6_a2e7_11ea_ac4f_287fcfbaf6a7level0_row0\" class=\"row_heading level0 row0\" >Female</th>\n",
       "                        <td id=\"T_8c3a15f6_a2e7_11ea_ac4f_287fcfbaf6a7row0_col0\" class=\"data row0 col0\" >113</td>\n",
       "                        <td id=\"T_8c3a15f6_a2e7_11ea_ac4f_287fcfbaf6a7row0_col1\" class=\"data row0 col1\" >$3.20</td>\n",
       "                        <td id=\"T_8c3a15f6_a2e7_11ea_ac4f_287fcfbaf6a7row0_col2\" class=\"data row0 col2\" >$361.94</td>\n",
       "                        <td id=\"T_8c3a15f6_a2e7_11ea_ac4f_287fcfbaf6a7row0_col3\" class=\"data row0 col3\" >$4.47</td>\n",
       "            </tr>\n",
       "            <tr>\n",
       "                        <th id=\"T_8c3a15f6_a2e7_11ea_ac4f_287fcfbaf6a7level0_row1\" class=\"row_heading level0 row1\" >Male</th>\n",
       "                        <td id=\"T_8c3a15f6_a2e7_11ea_ac4f_287fcfbaf6a7row1_col0\" class=\"data row1 col0\" >652</td>\n",
       "                        <td id=\"T_8c3a15f6_a2e7_11ea_ac4f_287fcfbaf6a7row1_col1\" class=\"data row1 col1\" >$3.02</td>\n",
       "                        <td id=\"T_8c3a15f6_a2e7_11ea_ac4f_287fcfbaf6a7row1_col2\" class=\"data row1 col2\" >$1,967.64</td>\n",
       "                        <td id=\"T_8c3a15f6_a2e7_11ea_ac4f_287fcfbaf6a7row1_col3\" class=\"data row1 col3\" >$4.07</td>\n",
       "            </tr>\n",
       "            <tr>\n",
       "                        <th id=\"T_8c3a15f6_a2e7_11ea_ac4f_287fcfbaf6a7level0_row2\" class=\"row_heading level0 row2\" >Other / Non-Disclosed</th>\n",
       "                        <td id=\"T_8c3a15f6_a2e7_11ea_ac4f_287fcfbaf6a7row2_col0\" class=\"data row2 col0\" >15</td>\n",
       "                        <td id=\"T_8c3a15f6_a2e7_11ea_ac4f_287fcfbaf6a7row2_col1\" class=\"data row2 col1\" >$3.35</td>\n",
       "                        <td id=\"T_8c3a15f6_a2e7_11ea_ac4f_287fcfbaf6a7row2_col2\" class=\"data row2 col2\" >$50.19</td>\n",
       "                        <td id=\"T_8c3a15f6_a2e7_11ea_ac4f_287fcfbaf6a7row2_col3\" class=\"data row2 col3\" >$4.56</td>\n",
       "            </tr>\n",
       "    </tbody></table>"
      ],
      "text/plain": [
       "<pandas.io.formats.style.Styler at 0x18ad90f5e50>"
      ]
     },
     "execution_count": 59,
     "metadata": {},
     "output_type": "execute_result"
    }
   ],
   "source": [
    "#Summary data frame to hold the results\n",
    "gender_demo = pd.DataFrame({\"Purchase Count\": purchase_count, \n",
    "                            \"Average Purchase Price\": avg_purchase_price,\n",
    "                            \"Total Purchase Value\": total_purchase_value,\n",
    "                            \"Avg Total Purchase per Person\": avg_purchase_total})\n",
    "\n",
    "gender_demo.index.name = \"Gender\"\n",
    "gender_demo.style.format({\"Average Purchase Price\":\"${:,.2f}\",\n",
    "                            \"Total Purchase Value\":\"${:,.2f}\",\n",
    "                            \"Avg Total Purchase per Person\":\"${:,.2f}\"})"
   ]
  },
  {
   "cell_type": "code",
   "execution_count": 69,
   "metadata": {},
   "outputs": [
    {
     "data": {
      "text/html": [
       "<style  type=\"text/css\" >\n",
       "</style><table id=\"T_f28f77a2_a362_11ea_ac86_287fcfbaf6a7\" ><thead>    <tr>        <th class=\"blank level0\" ></th>        <th class=\"col_heading level0 col0\" >Total Count</th>        <th class=\"col_heading level0 col1\" >Percentage of Players</th>    </tr></thead><tbody>\n",
       "                <tr>\n",
       "                        <th id=\"T_f28f77a2_a362_11ea_ac86_287fcfbaf6a7level0_row0\" class=\"row_heading level0 row0\" ><10</th>\n",
       "                        <td id=\"T_f28f77a2_a362_11ea_ac86_287fcfbaf6a7row0_col0\" class=\"data row0 col0\" >17</td>\n",
       "                        <td id=\"T_f28f77a2_a362_11ea_ac86_287fcfbaf6a7row0_col1\" class=\"data row0 col1\" >2.95%</td>\n",
       "            </tr>\n",
       "            <tr>\n",
       "                        <th id=\"T_f28f77a2_a362_11ea_ac86_287fcfbaf6a7level0_row1\" class=\"row_heading level0 row1\" >10-14</th>\n",
       "                        <td id=\"T_f28f77a2_a362_11ea_ac86_287fcfbaf6a7row1_col0\" class=\"data row1 col0\" >22</td>\n",
       "                        <td id=\"T_f28f77a2_a362_11ea_ac86_287fcfbaf6a7row1_col1\" class=\"data row1 col1\" >3.82%</td>\n",
       "            </tr>\n",
       "            <tr>\n",
       "                        <th id=\"T_f28f77a2_a362_11ea_ac86_287fcfbaf6a7level0_row2\" class=\"row_heading level0 row2\" >15-19</th>\n",
       "                        <td id=\"T_f28f77a2_a362_11ea_ac86_287fcfbaf6a7row2_col0\" class=\"data row2 col0\" >107</td>\n",
       "                        <td id=\"T_f28f77a2_a362_11ea_ac86_287fcfbaf6a7row2_col1\" class=\"data row2 col1\" >18.58%</td>\n",
       "            </tr>\n",
       "            <tr>\n",
       "                        <th id=\"T_f28f77a2_a362_11ea_ac86_287fcfbaf6a7level0_row3\" class=\"row_heading level0 row3\" >20-24</th>\n",
       "                        <td id=\"T_f28f77a2_a362_11ea_ac86_287fcfbaf6a7row3_col0\" class=\"data row3 col0\" >258</td>\n",
       "                        <td id=\"T_f28f77a2_a362_11ea_ac86_287fcfbaf6a7row3_col1\" class=\"data row3 col1\" >44.79%</td>\n",
       "            </tr>\n",
       "            <tr>\n",
       "                        <th id=\"T_f28f77a2_a362_11ea_ac86_287fcfbaf6a7level0_row4\" class=\"row_heading level0 row4\" >25-29</th>\n",
       "                        <td id=\"T_f28f77a2_a362_11ea_ac86_287fcfbaf6a7row4_col0\" class=\"data row4 col0\" >77</td>\n",
       "                        <td id=\"T_f28f77a2_a362_11ea_ac86_287fcfbaf6a7row4_col1\" class=\"data row4 col1\" >13.37%</td>\n",
       "            </tr>\n",
       "            <tr>\n",
       "                        <th id=\"T_f28f77a2_a362_11ea_ac86_287fcfbaf6a7level0_row5\" class=\"row_heading level0 row5\" >30-34</th>\n",
       "                        <td id=\"T_f28f77a2_a362_11ea_ac86_287fcfbaf6a7row5_col0\" class=\"data row5 col0\" >52</td>\n",
       "                        <td id=\"T_f28f77a2_a362_11ea_ac86_287fcfbaf6a7row5_col1\" class=\"data row5 col1\" >9.03%</td>\n",
       "            </tr>\n",
       "            <tr>\n",
       "                        <th id=\"T_f28f77a2_a362_11ea_ac86_287fcfbaf6a7level0_row6\" class=\"row_heading level0 row6\" >35-39</th>\n",
       "                        <td id=\"T_f28f77a2_a362_11ea_ac86_287fcfbaf6a7row6_col0\" class=\"data row6 col0\" >31</td>\n",
       "                        <td id=\"T_f28f77a2_a362_11ea_ac86_287fcfbaf6a7row6_col1\" class=\"data row6 col1\" >5.38%</td>\n",
       "            </tr>\n",
       "            <tr>\n",
       "                        <th id=\"T_f28f77a2_a362_11ea_ac86_287fcfbaf6a7level0_row7\" class=\"row_heading level0 row7\" >40+</th>\n",
       "                        <td id=\"T_f28f77a2_a362_11ea_ac86_287fcfbaf6a7row7_col0\" class=\"data row7 col0\" >12</td>\n",
       "                        <td id=\"T_f28f77a2_a362_11ea_ac86_287fcfbaf6a7row7_col1\" class=\"data row7 col1\" >2.08%</td>\n",
       "            </tr>\n",
       "    </tbody></table>"
      ],
      "text/plain": [
       "<pandas.io.formats.style.Styler at 0x18ad90fc2e0>"
      ]
     },
     "execution_count": 69,
     "metadata": {},
     "output_type": "execute_result"
    }
   ],
   "source": [
    "#Establish bins for ages\n",
    "age_bins = [0, 9.9, 14.9, 19.9, 24.9, 29.9, 34.9, 39.9, 99999]\n",
    "group_buckets = [\"<10\", \"10-14\", \"15-19\", \"20-24\", \"25-29\", \"30-34\", \"35-39\", \"40+\"]\n",
    "\n",
    "#Categorize the existing players using the age bins\n",
    "data_file_df[\"Age Group\"] = pd.cut(data_file_df[\"Age\"],age_bins, labels = group_buckets)\n",
    "data_file_df\n",
    "\n",
    "#Calculate the numbers and percentages by age group\n",
    "age_group = data_file_df.groupby(\"Age Group\")\n",
    "total_count = age_group[\"SN\"].nunique()\n",
    "percentage_age = (total_count/total_players) * 100\n",
    "\n",
    "#Create a summary data frame to hold the results\n",
    "age_demo = pd.DataFrame({\"Total Count\":total_count, \"Percentage of Players\":percentage_age})\n",
    "\n",
    "age_demo.index.name = None\n",
    "age_demo.style.format({\"Percentage of Players\":\"{:,.2f}%\"})\n"
   ]
  },
  {
   "cell_type": "code",
   "execution_count": 70,
   "metadata": {},
   "outputs": [
    {
     "data": {
      "text/html": [
       "<style  type=\"text/css\" >\n",
       "</style><table id=\"T_9a9eabc9_a368_11ea_b8b8_287fcfbaf6a7\" ><thead>    <tr>        <th class=\"blank level0\" ></th>        <th class=\"col_heading level0 col0\" >Purchase Count</th>        <th class=\"col_heading level0 col1\" >Average Purchase Price</th>        <th class=\"col_heading level0 col2\" >Total Purchase Value</th>        <th class=\"col_heading level0 col3\" >Avg Total Purchase per Person</th>    </tr>    <tr>        <th class=\"index_name level0\" >Age Ranges</th>        <th class=\"blank\" ></th>        <th class=\"blank\" ></th>        <th class=\"blank\" ></th>        <th class=\"blank\" ></th>    </tr></thead><tbody>\n",
       "                <tr>\n",
       "                        <th id=\"T_9a9eabc9_a368_11ea_b8b8_287fcfbaf6a7level0_row0\" class=\"row_heading level0 row0\" ><10</th>\n",
       "                        <td id=\"T_9a9eabc9_a368_11ea_b8b8_287fcfbaf6a7row0_col0\" class=\"data row0 col0\" >23</td>\n",
       "                        <td id=\"T_9a9eabc9_a368_11ea_b8b8_287fcfbaf6a7row0_col1\" class=\"data row0 col1\" >$3.35</td>\n",
       "                        <td id=\"T_9a9eabc9_a368_11ea_b8b8_287fcfbaf6a7row0_col2\" class=\"data row0 col2\" >$77.13</td>\n",
       "                        <td id=\"T_9a9eabc9_a368_11ea_b8b8_287fcfbaf6a7row0_col3\" class=\"data row0 col3\" >$4.54</td>\n",
       "            </tr>\n",
       "            <tr>\n",
       "                        <th id=\"T_9a9eabc9_a368_11ea_b8b8_287fcfbaf6a7level0_row1\" class=\"row_heading level0 row1\" >10-14</th>\n",
       "                        <td id=\"T_9a9eabc9_a368_11ea_b8b8_287fcfbaf6a7row1_col0\" class=\"data row1 col0\" >28</td>\n",
       "                        <td id=\"T_9a9eabc9_a368_11ea_b8b8_287fcfbaf6a7row1_col1\" class=\"data row1 col1\" >$2.96</td>\n",
       "                        <td id=\"T_9a9eabc9_a368_11ea_b8b8_287fcfbaf6a7row1_col2\" class=\"data row1 col2\" >$82.78</td>\n",
       "                        <td id=\"T_9a9eabc9_a368_11ea_b8b8_287fcfbaf6a7row1_col3\" class=\"data row1 col3\" >$3.76</td>\n",
       "            </tr>\n",
       "            <tr>\n",
       "                        <th id=\"T_9a9eabc9_a368_11ea_b8b8_287fcfbaf6a7level0_row2\" class=\"row_heading level0 row2\" >15-19</th>\n",
       "                        <td id=\"T_9a9eabc9_a368_11ea_b8b8_287fcfbaf6a7row2_col0\" class=\"data row2 col0\" >136</td>\n",
       "                        <td id=\"T_9a9eabc9_a368_11ea_b8b8_287fcfbaf6a7row2_col1\" class=\"data row2 col1\" >$3.04</td>\n",
       "                        <td id=\"T_9a9eabc9_a368_11ea_b8b8_287fcfbaf6a7row2_col2\" class=\"data row2 col2\" >$412.89</td>\n",
       "                        <td id=\"T_9a9eabc9_a368_11ea_b8b8_287fcfbaf6a7row2_col3\" class=\"data row2 col3\" >$3.86</td>\n",
       "            </tr>\n",
       "            <tr>\n",
       "                        <th id=\"T_9a9eabc9_a368_11ea_b8b8_287fcfbaf6a7level0_row3\" class=\"row_heading level0 row3\" >20-24</th>\n",
       "                        <td id=\"T_9a9eabc9_a368_11ea_b8b8_287fcfbaf6a7row3_col0\" class=\"data row3 col0\" >365</td>\n",
       "                        <td id=\"T_9a9eabc9_a368_11ea_b8b8_287fcfbaf6a7row3_col1\" class=\"data row3 col1\" >$3.05</td>\n",
       "                        <td id=\"T_9a9eabc9_a368_11ea_b8b8_287fcfbaf6a7row3_col2\" class=\"data row3 col2\" >$1,114.06</td>\n",
       "                        <td id=\"T_9a9eabc9_a368_11ea_b8b8_287fcfbaf6a7row3_col3\" class=\"data row3 col3\" >$4.32</td>\n",
       "            </tr>\n",
       "            <tr>\n",
       "                        <th id=\"T_9a9eabc9_a368_11ea_b8b8_287fcfbaf6a7level0_row4\" class=\"row_heading level0 row4\" >25-29</th>\n",
       "                        <td id=\"T_9a9eabc9_a368_11ea_b8b8_287fcfbaf6a7row4_col0\" class=\"data row4 col0\" >101</td>\n",
       "                        <td id=\"T_9a9eabc9_a368_11ea_b8b8_287fcfbaf6a7row4_col1\" class=\"data row4 col1\" >$2.90</td>\n",
       "                        <td id=\"T_9a9eabc9_a368_11ea_b8b8_287fcfbaf6a7row4_col2\" class=\"data row4 col2\" >$293.00</td>\n",
       "                        <td id=\"T_9a9eabc9_a368_11ea_b8b8_287fcfbaf6a7row4_col3\" class=\"data row4 col3\" >$3.81</td>\n",
       "            </tr>\n",
       "            <tr>\n",
       "                        <th id=\"T_9a9eabc9_a368_11ea_b8b8_287fcfbaf6a7level0_row5\" class=\"row_heading level0 row5\" >30-34</th>\n",
       "                        <td id=\"T_9a9eabc9_a368_11ea_b8b8_287fcfbaf6a7row5_col0\" class=\"data row5 col0\" >73</td>\n",
       "                        <td id=\"T_9a9eabc9_a368_11ea_b8b8_287fcfbaf6a7row5_col1\" class=\"data row5 col1\" >$2.93</td>\n",
       "                        <td id=\"T_9a9eabc9_a368_11ea_b8b8_287fcfbaf6a7row5_col2\" class=\"data row5 col2\" >$214.00</td>\n",
       "                        <td id=\"T_9a9eabc9_a368_11ea_b8b8_287fcfbaf6a7row5_col3\" class=\"data row5 col3\" >$4.12</td>\n",
       "            </tr>\n",
       "            <tr>\n",
       "                        <th id=\"T_9a9eabc9_a368_11ea_b8b8_287fcfbaf6a7level0_row6\" class=\"row_heading level0 row6\" >35-39</th>\n",
       "                        <td id=\"T_9a9eabc9_a368_11ea_b8b8_287fcfbaf6a7row6_col0\" class=\"data row6 col0\" >41</td>\n",
       "                        <td id=\"T_9a9eabc9_a368_11ea_b8b8_287fcfbaf6a7row6_col1\" class=\"data row6 col1\" >$3.60</td>\n",
       "                        <td id=\"T_9a9eabc9_a368_11ea_b8b8_287fcfbaf6a7row6_col2\" class=\"data row6 col2\" >$147.67</td>\n",
       "                        <td id=\"T_9a9eabc9_a368_11ea_b8b8_287fcfbaf6a7row6_col3\" class=\"data row6 col3\" >$4.76</td>\n",
       "            </tr>\n",
       "            <tr>\n",
       "                        <th id=\"T_9a9eabc9_a368_11ea_b8b8_287fcfbaf6a7level0_row7\" class=\"row_heading level0 row7\" >40+</th>\n",
       "                        <td id=\"T_9a9eabc9_a368_11ea_b8b8_287fcfbaf6a7row7_col0\" class=\"data row7 col0\" >13</td>\n",
       "                        <td id=\"T_9a9eabc9_a368_11ea_b8b8_287fcfbaf6a7row7_col1\" class=\"data row7 col1\" >$2.94</td>\n",
       "                        <td id=\"T_9a9eabc9_a368_11ea_b8b8_287fcfbaf6a7row7_col2\" class=\"data row7 col2\" >$38.24</td>\n",
       "                        <td id=\"T_9a9eabc9_a368_11ea_b8b8_287fcfbaf6a7row7_col3\" class=\"data row7 col3\" >$3.19</td>\n",
       "            </tr>\n",
       "    </tbody></table>"
      ],
      "text/plain": [
       "<pandas.io.formats.style.Styler at 0x18ad90e80d0>"
      ]
     },
     "execution_count": 70,
     "metadata": {},
     "output_type": "execute_result"
    }
   ],
   "source": [
    "#Purchase count by age group\n",
    "purchase_count = age_group[\"Purchase ID\"].count()\n",
    "\n",
    "#Average Purchase Price by age group\n",
    "avg_purchase_price = age_group[\"Price\"].mean()\n",
    "\n",
    "#Total Purchase Value by age group\n",
    "total_purchase_value = age_group[\"Price\"].sum()\n",
    "\n",
    "#Avg Total Purchase per Person\n",
    "avg_total_purchase = total_purchase_value/total_count\n",
    "\n",
    "#Create a summary data frame to hold the results\n",
    "age_demo = pd.DataFrame({\"Purchase Count\":purchase_count, \"Average Purchase Price\":avg_purchase_price,\n",
    "                         \"Total Purchase Value\":total_purchase_value,\n",
    "                         \"Avg Total Purchase per Person\":avg_total_purchase})\n",
    "\n",
    "age_demo.index.name = \"Age Ranges\"\n",
    "age_demo.style.format({\"Average Purchase Price\":\"${:,.2f}\",\n",
    "                       \"Total Purchase Value\":\"${:,.2f}\",\n",
    "                       \"Avg Total Purchase per Person\":\"${:,.2f}\"})"
   ]
  },
  {
   "cell_type": "code",
   "execution_count": 80,
   "metadata": {},
   "outputs": [
    {
     "data": {
      "text/html": [
       "<style  type=\"text/css\" >\n",
       "</style><table id=\"T_38f3275e_a36d_11ea_85d9_287fcfbaf6a7\" ><thead>    <tr>        <th class=\"blank level0\" ></th>        <th class=\"col_heading level0 col0\" >Purchase Count</th>        <th class=\"col_heading level0 col1\" >Average Purchase Price</th>        <th class=\"col_heading level0 col2\" >Total Purchase Value</th>    </tr>    <tr>        <th class=\"index_name level0\" >SN</th>        <th class=\"blank\" ></th>        <th class=\"blank\" ></th>        <th class=\"blank\" ></th>    </tr></thead><tbody>\n",
       "                <tr>\n",
       "                        <th id=\"T_38f3275e_a36d_11ea_85d9_287fcfbaf6a7level0_row0\" class=\"row_heading level0 row0\" >Lisosia93</th>\n",
       "                        <td id=\"T_38f3275e_a36d_11ea_85d9_287fcfbaf6a7row0_col0\" class=\"data row0 col0\" >5</td>\n",
       "                        <td id=\"T_38f3275e_a36d_11ea_85d9_287fcfbaf6a7row0_col1\" class=\"data row0 col1\" >$3.79</td>\n",
       "                        <td id=\"T_38f3275e_a36d_11ea_85d9_287fcfbaf6a7row0_col2\" class=\"data row0 col2\" >$18.96</td>\n",
       "            </tr>\n",
       "            <tr>\n",
       "                        <th id=\"T_38f3275e_a36d_11ea_85d9_287fcfbaf6a7level0_row1\" class=\"row_heading level0 row1\" >Idastidru52</th>\n",
       "                        <td id=\"T_38f3275e_a36d_11ea_85d9_287fcfbaf6a7row1_col0\" class=\"data row1 col0\" >4</td>\n",
       "                        <td id=\"T_38f3275e_a36d_11ea_85d9_287fcfbaf6a7row1_col1\" class=\"data row1 col1\" >$3.86</td>\n",
       "                        <td id=\"T_38f3275e_a36d_11ea_85d9_287fcfbaf6a7row1_col2\" class=\"data row1 col2\" >$15.45</td>\n",
       "            </tr>\n",
       "            <tr>\n",
       "                        <th id=\"T_38f3275e_a36d_11ea_85d9_287fcfbaf6a7level0_row2\" class=\"row_heading level0 row2\" >Chamjask73</th>\n",
       "                        <td id=\"T_38f3275e_a36d_11ea_85d9_287fcfbaf6a7row2_col0\" class=\"data row2 col0\" >3</td>\n",
       "                        <td id=\"T_38f3275e_a36d_11ea_85d9_287fcfbaf6a7row2_col1\" class=\"data row2 col1\" >$4.61</td>\n",
       "                        <td id=\"T_38f3275e_a36d_11ea_85d9_287fcfbaf6a7row2_col2\" class=\"data row2 col2\" >$13.83</td>\n",
       "            </tr>\n",
       "            <tr>\n",
       "                        <th id=\"T_38f3275e_a36d_11ea_85d9_287fcfbaf6a7level0_row3\" class=\"row_heading level0 row3\" >Iral74</th>\n",
       "                        <td id=\"T_38f3275e_a36d_11ea_85d9_287fcfbaf6a7row3_col0\" class=\"data row3 col0\" >4</td>\n",
       "                        <td id=\"T_38f3275e_a36d_11ea_85d9_287fcfbaf6a7row3_col1\" class=\"data row3 col1\" >$3.40</td>\n",
       "                        <td id=\"T_38f3275e_a36d_11ea_85d9_287fcfbaf6a7row3_col2\" class=\"data row3 col2\" >$13.62</td>\n",
       "            </tr>\n",
       "            <tr>\n",
       "                        <th id=\"T_38f3275e_a36d_11ea_85d9_287fcfbaf6a7level0_row4\" class=\"row_heading level0 row4\" >Iskadarya95</th>\n",
       "                        <td id=\"T_38f3275e_a36d_11ea_85d9_287fcfbaf6a7row4_col0\" class=\"data row4 col0\" >3</td>\n",
       "                        <td id=\"T_38f3275e_a36d_11ea_85d9_287fcfbaf6a7row4_col1\" class=\"data row4 col1\" >$4.37</td>\n",
       "                        <td id=\"T_38f3275e_a36d_11ea_85d9_287fcfbaf6a7row4_col2\" class=\"data row4 col2\" >$13.10</td>\n",
       "            </tr>\n",
       "    </tbody></table>"
      ],
      "text/plain": [
       "<pandas.io.formats.style.Styler at 0x18ad90e4b80>"
      ]
     },
     "execution_count": 80,
     "metadata": {},
     "output_type": "execute_result"
    }
   ],
   "source": [
    "#Establish binds for Top Spenders\n",
    "spender_group = data_file_df.groupby(\"SN\")\n",
    "\n",
    "#Purchase count by Top Spenders\n",
    "purchase_count = spender_group[\"Purchase ID\"].count()\n",
    "\n",
    "#Average Purchase Price by Top Spenders\n",
    "avg_purchase_price_top_spender = spender_group[\"Price\"].mean()\n",
    "\n",
    "#Sort the total purchase value column in descending order\n",
    "total_purchase_value_top_spender = spender_group[\"Price\"].sum()\n",
    "\n",
    "total_spenders = pd.DataFrame({\"Purchase Count\":purchase_count,\n",
    "                               \"Average Purchase Price\":avg_purchase_price_top_spender,\n",
    "                               \"Total Purchase Value\":total_purchase_value_top_spender})\n",
    "\n",
    "format_spender = total_spenders.sort_values([\"Total Purchase Value\"], ascending=False).head()\n",
    "\n",
    "format_spender.index.name = \"SN\"\n",
    "format_spender.style.format({\"Average Purchase Price\":\"${:,.2f}\",\n",
    "                               \"Total Purchase Value\":\"${:,.2f}\"})\n",
    "\n"
   ]
  },
  {
   "cell_type": "code",
   "execution_count": 82,
   "metadata": {},
   "outputs": [
    {
     "data": {
      "text/html": [
       "<style  type=\"text/css\" >\n",
       "</style><table id=\"T_5c0a8dc4_a372_11ea_a149_287fcfbaf6a7\" ><thead>    <tr>        <th class=\"blank\" ></th>        <th class=\"blank level0\" ></th>        <th class=\"col_heading level0 col0\" >Purchase Count</th>        <th class=\"col_heading level0 col1\" >Item Price</th>        <th class=\"col_heading level0 col2\" >Total Purchase Value</th>    </tr>    <tr>        <th class=\"index_name level0\" >Item ID</th>        <th class=\"index_name level1\" >Item Name</th>        <th class=\"blank\" ></th>        <th class=\"blank\" ></th>        <th class=\"blank\" ></th>    </tr></thead><tbody>\n",
       "                <tr>\n",
       "                        <th id=\"T_5c0a8dc4_a372_11ea_a149_287fcfbaf6a7level0_row0\" class=\"row_heading level0 row0\" >92</th>\n",
       "                        <th id=\"T_5c0a8dc4_a372_11ea_a149_287fcfbaf6a7level1_row0\" class=\"row_heading level1 row0\" >Final Critic</th>\n",
       "                        <td id=\"T_5c0a8dc4_a372_11ea_a149_287fcfbaf6a7row0_col0\" class=\"data row0 col0\" >13</td>\n",
       "                        <td id=\"T_5c0a8dc4_a372_11ea_a149_287fcfbaf6a7row0_col1\" class=\"data row0 col1\" >$4.61</td>\n",
       "                        <td id=\"T_5c0a8dc4_a372_11ea_a149_287fcfbaf6a7row0_col2\" class=\"data row0 col2\" >$59.99</td>\n",
       "            </tr>\n",
       "            <tr>\n",
       "                        <th id=\"T_5c0a8dc4_a372_11ea_a149_287fcfbaf6a7level0_row1\" class=\"row_heading level0 row1\" >178</th>\n",
       "                        <th id=\"T_5c0a8dc4_a372_11ea_a149_287fcfbaf6a7level1_row1\" class=\"row_heading level1 row1\" >Oathbreaker, Last Hope of the Breaking Storm</th>\n",
       "                        <td id=\"T_5c0a8dc4_a372_11ea_a149_287fcfbaf6a7row1_col0\" class=\"data row1 col0\" >12</td>\n",
       "                        <td id=\"T_5c0a8dc4_a372_11ea_a149_287fcfbaf6a7row1_col1\" class=\"data row1 col1\" >$4.23</td>\n",
       "                        <td id=\"T_5c0a8dc4_a372_11ea_a149_287fcfbaf6a7row1_col2\" class=\"data row1 col2\" >$50.76</td>\n",
       "            </tr>\n",
       "            <tr>\n",
       "                        <th id=\"T_5c0a8dc4_a372_11ea_a149_287fcfbaf6a7level0_row2\" class=\"row_heading level0 row2\" >145</th>\n",
       "                        <th id=\"T_5c0a8dc4_a372_11ea_a149_287fcfbaf6a7level1_row2\" class=\"row_heading level1 row2\" >Fiery Glass Crusader</th>\n",
       "                        <td id=\"T_5c0a8dc4_a372_11ea_a149_287fcfbaf6a7row2_col0\" class=\"data row2 col0\" >9</td>\n",
       "                        <td id=\"T_5c0a8dc4_a372_11ea_a149_287fcfbaf6a7row2_col1\" class=\"data row2 col1\" >$4.58</td>\n",
       "                        <td id=\"T_5c0a8dc4_a372_11ea_a149_287fcfbaf6a7row2_col2\" class=\"data row2 col2\" >$41.22</td>\n",
       "            </tr>\n",
       "            <tr>\n",
       "                        <th id=\"T_5c0a8dc4_a372_11ea_a149_287fcfbaf6a7level0_row3\" class=\"row_heading level0 row3\" >132</th>\n",
       "                        <th id=\"T_5c0a8dc4_a372_11ea_a149_287fcfbaf6a7level1_row3\" class=\"row_heading level1 row3\" >Persuasion</th>\n",
       "                        <td id=\"T_5c0a8dc4_a372_11ea_a149_287fcfbaf6a7row3_col0\" class=\"data row3 col0\" >9</td>\n",
       "                        <td id=\"T_5c0a8dc4_a372_11ea_a149_287fcfbaf6a7row3_col1\" class=\"data row3 col1\" >$3.22</td>\n",
       "                        <td id=\"T_5c0a8dc4_a372_11ea_a149_287fcfbaf6a7row3_col2\" class=\"data row3 col2\" >$28.99</td>\n",
       "            </tr>\n",
       "            <tr>\n",
       "                        <th id=\"T_5c0a8dc4_a372_11ea_a149_287fcfbaf6a7level0_row4\" class=\"row_heading level0 row4\" >108</th>\n",
       "                        <th id=\"T_5c0a8dc4_a372_11ea_a149_287fcfbaf6a7level1_row4\" class=\"row_heading level1 row4\" >Extraction, Quickblade Of Trembling Hands</th>\n",
       "                        <td id=\"T_5c0a8dc4_a372_11ea_a149_287fcfbaf6a7row4_col0\" class=\"data row4 col0\" >9</td>\n",
       "                        <td id=\"T_5c0a8dc4_a372_11ea_a149_287fcfbaf6a7row4_col1\" class=\"data row4 col1\" >$3.53</td>\n",
       "                        <td id=\"T_5c0a8dc4_a372_11ea_a149_287fcfbaf6a7row4_col2\" class=\"data row4 col2\" >$31.77</td>\n",
       "            </tr>\n",
       "    </tbody></table>"
      ],
      "text/plain": [
       "<pandas.io.formats.style.Styler at 0x18ad927b1f0>"
      ]
     },
     "execution_count": 82,
     "metadata": {},
     "output_type": "execute_result"
    }
   ],
   "source": [
    "#Retrieve the Item ID, Item Name, and Item Price columns\n",
    "items = data_file_df[[\"Item ID\", \"Item Name\", \"Price\"]]\n",
    "\n",
    "#Group by Item ID and Item Name\n",
    "item_id_group = items.groupby([\"Item ID\",\"Item Name\"])\n",
    "\n",
    "#Perform calculations to obtain purchase count, item price, and total purchase value\n",
    "purchase_count = item_id_group[\"Price\"].count()\n",
    "purchase_total_value = item_id_group[\"Price\"].sum()\n",
    "item_price = purchase_total_value/purchase_count\n",
    "\n",
    "#Create a summary data frame to hold the results\n",
    "most_popular_items = pd.DataFrame({\"Purchase Count\":purchase_count,\n",
    "                                   \"Item Price\":item_price,\n",
    "                                   \"Total Purchase Value\":purchase_total_value})\n",
    "\n",
    "format_most_popular = most_popular_items.sort_values([\"Purchase Count\"], ascending=False).head()\n",
    "\n",
    "format_most_popular.style.format({\"Item Price\":\"${:,.2f}\",\n",
    "                                   \"Total Purchase Value\":\"${:,.2f}\"})"
   ]
  },
  {
   "cell_type": "code",
   "execution_count": 83,
   "metadata": {},
   "outputs": [
    {
     "data": {
      "text/html": [
       "<style  type=\"text/css\" >\n",
       "</style><table id=\"T_bc30c915_a372_11ea_be45_287fcfbaf6a7\" ><thead>    <tr>        <th class=\"blank\" ></th>        <th class=\"blank level0\" ></th>        <th class=\"col_heading level0 col0\" >Purchase Count</th>        <th class=\"col_heading level0 col1\" >Item Price</th>        <th class=\"col_heading level0 col2\" >Total Purchase Value</th>    </tr>    <tr>        <th class=\"index_name level0\" >Item ID</th>        <th class=\"index_name level1\" >Item Name</th>        <th class=\"blank\" ></th>        <th class=\"blank\" ></th>        <th class=\"blank\" ></th>    </tr></thead><tbody>\n",
       "                <tr>\n",
       "                        <th id=\"T_bc30c915_a372_11ea_be45_287fcfbaf6a7level0_row0\" class=\"row_heading level0 row0\" >92</th>\n",
       "                        <th id=\"T_bc30c915_a372_11ea_be45_287fcfbaf6a7level1_row0\" class=\"row_heading level1 row0\" >Final Critic</th>\n",
       "                        <td id=\"T_bc30c915_a372_11ea_be45_287fcfbaf6a7row0_col0\" class=\"data row0 col0\" >13</td>\n",
       "                        <td id=\"T_bc30c915_a372_11ea_be45_287fcfbaf6a7row0_col1\" class=\"data row0 col1\" >$4.61</td>\n",
       "                        <td id=\"T_bc30c915_a372_11ea_be45_287fcfbaf6a7row0_col2\" class=\"data row0 col2\" >$59.99</td>\n",
       "            </tr>\n",
       "            <tr>\n",
       "                        <th id=\"T_bc30c915_a372_11ea_be45_287fcfbaf6a7level0_row1\" class=\"row_heading level0 row1\" >178</th>\n",
       "                        <th id=\"T_bc30c915_a372_11ea_be45_287fcfbaf6a7level1_row1\" class=\"row_heading level1 row1\" >Oathbreaker, Last Hope of the Breaking Storm</th>\n",
       "                        <td id=\"T_bc30c915_a372_11ea_be45_287fcfbaf6a7row1_col0\" class=\"data row1 col0\" >12</td>\n",
       "                        <td id=\"T_bc30c915_a372_11ea_be45_287fcfbaf6a7row1_col1\" class=\"data row1 col1\" >$4.23</td>\n",
       "                        <td id=\"T_bc30c915_a372_11ea_be45_287fcfbaf6a7row1_col2\" class=\"data row1 col2\" >$50.76</td>\n",
       "            </tr>\n",
       "            <tr>\n",
       "                        <th id=\"T_bc30c915_a372_11ea_be45_287fcfbaf6a7level0_row2\" class=\"row_heading level0 row2\" >82</th>\n",
       "                        <th id=\"T_bc30c915_a372_11ea_be45_287fcfbaf6a7level1_row2\" class=\"row_heading level1 row2\" >Nirvana</th>\n",
       "                        <td id=\"T_bc30c915_a372_11ea_be45_287fcfbaf6a7row2_col0\" class=\"data row2 col0\" >9</td>\n",
       "                        <td id=\"T_bc30c915_a372_11ea_be45_287fcfbaf6a7row2_col1\" class=\"data row2 col1\" >$4.90</td>\n",
       "                        <td id=\"T_bc30c915_a372_11ea_be45_287fcfbaf6a7row2_col2\" class=\"data row2 col2\" >$44.10</td>\n",
       "            </tr>\n",
       "            <tr>\n",
       "                        <th id=\"T_bc30c915_a372_11ea_be45_287fcfbaf6a7level0_row3\" class=\"row_heading level0 row3\" >145</th>\n",
       "                        <th id=\"T_bc30c915_a372_11ea_be45_287fcfbaf6a7level1_row3\" class=\"row_heading level1 row3\" >Fiery Glass Crusader</th>\n",
       "                        <td id=\"T_bc30c915_a372_11ea_be45_287fcfbaf6a7row3_col0\" class=\"data row3 col0\" >9</td>\n",
       "                        <td id=\"T_bc30c915_a372_11ea_be45_287fcfbaf6a7row3_col1\" class=\"data row3 col1\" >$4.58</td>\n",
       "                        <td id=\"T_bc30c915_a372_11ea_be45_287fcfbaf6a7row3_col2\" class=\"data row3 col2\" >$41.22</td>\n",
       "            </tr>\n",
       "            <tr>\n",
       "                        <th id=\"T_bc30c915_a372_11ea_be45_287fcfbaf6a7level0_row4\" class=\"row_heading level0 row4\" >103</th>\n",
       "                        <th id=\"T_bc30c915_a372_11ea_be45_287fcfbaf6a7level1_row4\" class=\"row_heading level1 row4\" >Singed Scalpel</th>\n",
       "                        <td id=\"T_bc30c915_a372_11ea_be45_287fcfbaf6a7row4_col0\" class=\"data row4 col0\" >8</td>\n",
       "                        <td id=\"T_bc30c915_a372_11ea_be45_287fcfbaf6a7row4_col1\" class=\"data row4 col1\" >$4.35</td>\n",
       "                        <td id=\"T_bc30c915_a372_11ea_be45_287fcfbaf6a7row4_col2\" class=\"data row4 col2\" >$34.80</td>\n",
       "            </tr>\n",
       "    </tbody></table>"
      ],
      "text/plain": [
       "<pandas.io.formats.style.Styler at 0x18ad927b1c0>"
      ]
     },
     "execution_count": 83,
     "metadata": {},
     "output_type": "execute_result"
    }
   ],
   "source": [
    "#Retrieve the Item ID, Item Name, and Item Price columns\n",
    "items = data_file_df[[\"Item ID\", \"Item Name\", \"Price\"]]\n",
    "\n",
    "#Group by Item ID and Item Name\n",
    "item_id_group = items.groupby([\"Item ID\",\"Item Name\"])\n",
    "\n",
    "#Perform calculations to obtain purchase count, item price, and total purchase value\n",
    "purchase_count = item_id_group[\"Price\"].count()\n",
    "purchase_total_value = item_id_group[\"Price\"].sum()\n",
    "item_price = purchase_total_value/purchase_count\n",
    "\n",
    "#Create a summary data frame to hold the results\n",
    "most_popular_items = pd.DataFrame({\"Purchase Count\":purchase_count,\n",
    "                                   \"Item Price\":item_price,\n",
    "                                   \"Total Purchase Value\":purchase_total_value})\n",
    "\n",
    "format_most_popular = most_popular_items.sort_values([\"Total Purchase Value\"], ascending=False).head()\n",
    "\n",
    "format_most_popular.style.format({\"Item Price\":\"${:,.2f}\",\n",
    "                                   \"Total Purchase Value\":\"${:,.2f}\"})"
   ]
  },
  {
   "cell_type": "code",
   "execution_count": null,
   "metadata": {},
   "outputs": [],
   "source": []
  }
 ],
 "metadata": {
  "kernelspec": {
   "display_name": "Python [conda env:PythonData] *",
   "language": "python",
   "name": "conda-env-PythonData-py"
  },
  "language_info": {
   "codemirror_mode": {
    "name": "ipython",
    "version": 3
   },
   "file_extension": ".py",
   "mimetype": "text/x-python",
   "name": "python",
   "nbconvert_exporter": "python",
   "pygments_lexer": "ipython3",
   "version": "3.8.2"
  }
 },
 "nbformat": 4,
 "nbformat_minor": 4
}
